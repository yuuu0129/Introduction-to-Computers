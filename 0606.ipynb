{
  "cells": [
    {
      "cell_type": "markdown",
      "metadata": {
        "id": "view-in-github",
        "colab_type": "text"
      },
      "source": [
        "<a href=\"https://colab.research.google.com/github/yuuu0129/Introduction-to-Computers/blob/main/0606.ipynb\" target=\"_parent\"><img src=\"https://colab.research.google.com/assets/colab-badge.svg\" alt=\"Open In Colab\"/></a>"
      ]
    },
    {
      "cell_type": "code",
      "execution_count": null,
      "metadata": {
        "colab": {
          "base_uri": "https://localhost:8080/"
        },
        "id": "gIu_4Z-fFBte",
        "outputId": "e8f75aca-2511-46e8-dca4-f049026d1df1"
      },
      "outputs": [
        {
          "name": "stdout",
          "output_type": "stream",
          "text": [
            "0606test\n"
          ]
        }
      ],
      "source": [
        "print(\"0606test\")"
      ]
    },
    {
      "cell_type": "code",
      "execution_count": null,
      "metadata": {
        "colab": {
          "base_uri": "https://localhost:8080/"
        },
        "id": "tqLDRoeuFJQj",
        "outputId": "3f79bbcf-3fe3-4d4d-e4d2-b0590c703eff"
      },
      "outputs": [
        {
          "name": "stdout",
          "output_type": "stream",
          "text": [
            "0到50的奇數和結果是625\n"
          ]
        }
      ],
      "source": [
        "i = 0\n",
        "result = 0\n",
        "while i<= 50:\n",
        "    if i % 2 != 0:\n",
        "        result += i\n",
        "    i+= 1\n",
        "print(\"0到50的奇數和結果是%d\" % result)    "
      ]
    },
    {
      "cell_type": "code",
      "execution_count": null,
      "metadata": {
        "colab": {
          "base_uri": "https://localhost:8080/"
        },
        "id": "pO6SPFAIGbfn",
        "outputId": "1dc7b50d-c6db-4adc-d839-ce3029533a04"
      },
      "outputs": [
        {
          "name": "stdout",
          "output_type": "stream",
          "text": [
            "0-50的偶數和結果是650\n"
          ]
        }
      ],
      "source": [
        "i = 0\n",
        "result = 0\n",
        "while i<= 50:\n",
        "    if i % 2 == 0:\n",
        "        result += i\n",
        "    i+= 1\n",
        "print(\"0-50的偶數和結果是%d\" % result)        "
      ]
    },
    {
      "cell_type": "code",
      "execution_count": null,
      "metadata": {
        "colab": {
          "base_uri": "https://localhost:8080/"
        },
        "id": "CRxjSYnhG-7m",
        "outputId": "723fe06c-737a-424f-8e86-380098f3f6de"
      },
      "outputs": [
        {
          "name": "stdout",
          "output_type": "stream",
          "text": [
            "請輸入正整數：10\n",
            "* * * * * * * * * * \n",
            "* * * * * * * * * \n",
            "* * * * * * * * \n",
            "* * * * * * * \n",
            "* * * * * * \n",
            "* * * * * \n",
            "* * * * \n",
            "* * * \n",
            "* * \n",
            "* \n"
          ]
        }
      ],
      "source": [
        "n= int(input(\"請輸入正整數：\"))\n",
        "for i in range (1,n+1):\n",
        "    for j in range(i,n+1):\n",
        "        print(\"*\",end = \" \")\n",
        "    print() "
      ]
    },
    {
      "cell_type": "code",
      "execution_count": null,
      "metadata": {
        "colab": {
          "base_uri": "https://localhost:8080/"
        },
        "id": "-IqXK5v9INl4",
        "outputId": "41053fd2-b83c-41ae-eeac-a7821291e09f"
      },
      "outputs": [
        {
          "name": "stdout",
          "output_type": "stream",
          "text": [
            "數值1~100 中,所有是 3 或 7 倍數的數之總和 = 2208\n"
          ]
        }
      ],
      "source": [
        "sum = 0\n",
        "for i in range(0,101):\n",
        "    if (i%3==0 or i%7==0):\n",
        "        sum += i\n",
        "print(\"數值1~100 中,所有是 3 或 7 倍數的數之總和 =\",sum)        \n"
      ]
    },
    {
      "cell_type": "code",
      "execution_count": null,
      "metadata": {
        "colab": {
          "base_uri": "https://localhost:8080/"
        },
        "id": "BL3bdicxJXTg",
        "outputId": "462408e7-76a2-49e2-8281-4f8eda41d4f4"
      },
      "outputs": [
        {
          "name": "stdout",
          "output_type": "stream",
          "text": [
            "請輸入正整數3\n",
            "3 的因數有13\n",
            "3 是質數\n"
          ]
        }
      ],
      "source": [
        "p= 1\n",
        "counter=0\n",
        "n= int(input(\"請輸入正整數\"))\n",
        "print(n,\"的因數有\",end= \"\")\n",
        "while(p<=n):\n",
        "    if (n%p==0):\n",
        "        print(p,end=\"\")\n",
        "        counter+=1\n",
        "    p+=1\n",
        "\n",
        "\n",
        "    \n",
        "print()\n",
        "if (counter== 2):\n",
        "    print(n,\"是質數\")    \n",
        "else:\n",
        "    print(n,\"不是質數\")        \n",
        "  "
      ]
    },
    {
      "cell_type": "code",
      "execution_count": null,
      "metadata": {
        "id": "Pgc5H6u6LpZ4"
      },
      "outputs": [],
      "source": [
        "list1 = [1,2,3,4,5]\n"
      ]
    },
    {
      "cell_type": "code",
      "execution_count": null,
      "metadata": {
        "colab": {
          "base_uri": "https://localhost:8080/"
        },
        "id": "83KZgnFgLyVq",
        "outputId": "27d7247e-8fb2-43b9-f41c-784c81fab0b8"
      },
      "outputs": [
        {
          "data": {
            "text/plain": [
              "[1, 2, 3, 4, 5]"
            ]
          },
          "execution_count": 17,
          "metadata": {},
          "output_type": "execute_result"
        }
      ],
      "source": [
        "list1"
      ]
    },
    {
      "cell_type": "code",
      "execution_count": null,
      "metadata": {
        "id": "AqmgDeeYMOPF"
      },
      "outputs": [],
      "source": [
        "list2= [\"香蕉\",\"蘋果\",\"橘子\"]"
      ]
    },
    {
      "cell_type": "code",
      "execution_count": null,
      "metadata": {
        "colab": {
          "base_uri": "https://localhost:8080/"
        },
        "id": "Sy5B1I0YMYsJ",
        "outputId": "df738346-fbf6-420c-9afa-46577fb1c3a0"
      },
      "outputs": [
        {
          "data": {
            "text/plain": [
              "['香蕉', '蘋果', '橘子']"
            ]
          },
          "execution_count": 19,
          "metadata": {},
          "output_type": "execute_result"
        }
      ],
      "source": [
        "list2"
      ]
    },
    {
      "cell_type": "code",
      "execution_count": null,
      "metadata": {
        "id": "nvbPHQkoMa9S"
      },
      "outputs": [],
      "source": [
        "list3=[1,\"香蕉\",True]"
      ]
    },
    {
      "cell_type": "code",
      "execution_count": null,
      "metadata": {
        "colab": {
          "base_uri": "https://localhost:8080/"
        },
        "id": "1SB8QJ11Mk6y",
        "outputId": "1d043eb6-7714-47a8-fb93-446a179b0b88"
      },
      "outputs": [
        {
          "data": {
            "text/plain": [
              "[1, '香蕉', True]"
            ]
          },
          "execution_count": 21,
          "metadata": {},
          "output_type": "execute_result"
        }
      ],
      "source": [
        "list3"
      ]
    },
    {
      "cell_type": "code",
      "execution_count": null,
      "metadata": {
        "colab": {
          "base_uri": "https://localhost:8080/"
        },
        "id": "en6EvR-wNamV",
        "outputId": "8d4f8b7a-d7cd-403a-bff0-3aaf56cd77e4"
      },
      "outputs": [
        {
          "name": "stdout",
          "output_type": "stream",
          "text": [
            "[1, 2, 3, 4, 5]\n"
          ]
        }
      ],
      "source": [
        "print(list1)"
      ]
    },
    {
      "cell_type": "code",
      "execution_count": null,
      "metadata": {
        "colab": {
          "base_uri": "https://localhost:8080/"
        },
        "id": "RswBZgueNfmy",
        "outputId": "b48c4e58-1584-46bb-9344-5fb1e2bf4f64"
      },
      "outputs": [
        {
          "name": "stdout",
          "output_type": "stream",
          "text": [
            "1\n",
            "2\n",
            "3\n",
            "4\n",
            "5\n"
          ]
        }
      ],
      "source": [
        "print(list1[0])\n",
        "print(list1[1])\n",
        "print(list1[2])\n",
        "print(list1[3])\n",
        "print(list1[4])"
      ]
    },
    {
      "cell_type": "code",
      "execution_count": null,
      "metadata": {
        "id": "lnENqmRhNvbK"
      },
      "outputs": [],
      "source": [
        "list4=[\"香蕉\",\"蘋果\",\"橘子\"]"
      ]
    },
    {
      "cell_type": "code",
      "execution_count": null,
      "metadata": {
        "colab": {
          "base_uri": "https://localhost:8080/"
        },
        "id": "LBRlwnOjN4EW",
        "outputId": "e7ad975c-5901-41a8-fa6d-f7b4a9ca975c"
      },
      "outputs": [
        {
          "name": "stdout",
          "output_type": "stream",
          "text": [
            "香蕉\n",
            "蘋果\n",
            "橘子\n"
          ]
        }
      ],
      "source": [
        "print(list4[0])\n",
        "print(list4[1])\n",
        "print(list4[2])"
      ]
    },
    {
      "cell_type": "code",
      "execution_count": null,
      "metadata": {
        "colab": {
          "base_uri": "https://localhost:8080/",
          "height": 225
        },
        "id": "MyzuzyWUOVHe",
        "outputId": "7ffdc0fa-dcc6-4723-dc49-1856d6c4609c"
      },
      "outputs": [
        {
          "ename": "IndexError",
          "evalue": "ignored",
          "output_type": "error",
          "traceback": [
            "\u001b[0;31m---------------------------------------------------------------------------\u001b[0m",
            "\u001b[0;31mIndexError\u001b[0m                                Traceback (most recent call last)",
            "\u001b[0;32m<ipython-input-26-9576ac69e6be>\u001b[0m in \u001b[0;36m<module>\u001b[0;34m()\u001b[0m\n\u001b[0;32m----> 1\u001b[0;31m \u001b[0mprint\u001b[0m\u001b[0;34m(\u001b[0m\u001b[0mlist4\u001b[0m\u001b[0;34m[\u001b[0m\u001b[0;36m3\u001b[0m\u001b[0;34m]\u001b[0m\u001b[0;34m)\u001b[0m\u001b[0;34m\u001b[0m\u001b[0;34m\u001b[0m\u001b[0m\n\u001b[0m",
            "\u001b[0;31mIndexError\u001b[0m: list index out of range"
          ]
        }
      ],
      "source": [
        "print(list4[3])"
      ]
    },
    {
      "cell_type": "code",
      "execution_count": null,
      "metadata": {
        "colab": {
          "base_uri": "https://localhost:8080/"
        },
        "id": "hfm_l2J_Os99",
        "outputId": "18b69870-7eae-4651-8f99-385888e0599b"
      },
      "outputs": [
        {
          "name": "stdout",
          "output_type": "stream",
          "text": [
            "橘子\n",
            "香蕉\n"
          ]
        }
      ],
      "source": [
        "print(list4[-1])\n",
        "print(list4[-3])"
      ]
    },
    {
      "cell_type": "code",
      "execution_count": null,
      "metadata": {
        "colab": {
          "base_uri": "https://localhost:8080/",
          "height": 225
        },
        "id": "8BTHf26nO4_8",
        "outputId": "35eeba21-84c3-4c8a-ca8e-ea9b4db671ef"
      },
      "outputs": [
        {
          "ename": "IndexError",
          "evalue": "ignored",
          "output_type": "error",
          "traceback": [
            "\u001b[0;31m---------------------------------------------------------------------------\u001b[0m",
            "\u001b[0;31mIndexError\u001b[0m                                Traceback (most recent call last)",
            "\u001b[0;32m<ipython-input-29-0c21896b40b4>\u001b[0m in \u001b[0;36m<module>\u001b[0;34m()\u001b[0m\n\u001b[0;32m----> 1\u001b[0;31m \u001b[0mprint\u001b[0m\u001b[0;34m(\u001b[0m\u001b[0mlist4\u001b[0m\u001b[0;34m[\u001b[0m\u001b[0;34m-\u001b[0m\u001b[0;36m4\u001b[0m\u001b[0;34m]\u001b[0m\u001b[0;34m)\u001b[0m\u001b[0;34m\u001b[0m\u001b[0;34m\u001b[0m\u001b[0m\n\u001b[0m",
            "\u001b[0;31mIndexError\u001b[0m: list index out of range"
          ]
        }
      ],
      "source": [
        "print(list4[-4])"
      ]
    },
    {
      "cell_type": "code",
      "execution_count": null,
      "metadata": {
        "id": "q6pBGLSQPJzy"
      },
      "outputs": [],
      "source": [
        "list5 = [[\"tom\",\"1234\"]],[\"mary\",\"abcd\"],[\"david\",\"5678\"]"
      ]
    },
    {
      "cell_type": "code",
      "execution_count": null,
      "metadata": {
        "colab": {
          "base_uri": "https://localhost:8080/"
        },
        "id": "rb4Smr5PPx6m",
        "outputId": "7c9aa8ef-e17a-4dfe-e620-eea91215fd81"
      },
      "outputs": [
        {
          "name": "stdout",
          "output_type": "stream",
          "text": [
            "['tom', '1234']\n"
          ]
        }
      ],
      "source": [
        "print(list5[0])"
      ]
    },
    {
      "cell_type": "code",
      "execution_count": null,
      "metadata": {
        "colab": {
          "base_uri": "https://localhost:8080/"
        },
        "id": "qRMKUfzlQAom",
        "outputId": "a4ff57b5-ea9b-4c84-ae02-68b310f41f4d"
      },
      "outputs": [
        {
          "name": "stdout",
          "output_type": "stream",
          "text": [
            "abcd\n"
          ]
        }
      ],
      "source": [
        "print(list5[1][1])"
      ]
    },
    {
      "cell_type": "code",
      "execution_count": null,
      "metadata": {
        "colab": {
          "base_uri": "https://localhost:8080/"
        },
        "id": "cle6c-2aQKk8",
        "outputId": "2a3da6b6-0125-48ef-89ef-ca0f0f37195a"
      },
      "outputs": [
        {
          "name": "stdout",
          "output_type": "stream",
          "text": [
            "['tom', '1234']\n"
          ]
        }
      ],
      "source": [
        "print(list5[0])"
      ]
    },
    {
      "cell_type": "code",
      "execution_count": null,
      "metadata": {
        "colab": {
          "base_uri": "https://localhost:8080/"
        },
        "id": "iQCOkuncQRxl",
        "outputId": "6510a115-6d7d-4a37-f358-3096aba229f9"
      },
      "outputs": [
        {
          "name": "stdout",
          "output_type": "stream",
          "text": [
            "['tom', '1234']\n"
          ]
        }
      ],
      "source": [
        "print(list5[0][0])"
      ]
    },
    {
      "cell_type": "code",
      "execution_count": null,
      "metadata": {
        "colab": {
          "base_uri": "https://localhost:8080/"
        },
        "id": "fz3jWefzQO6i",
        "outputId": "2ccb8776-9ba3-4285-d989-f42c27ab1d2d"
      },
      "outputs": [
        {
          "name": "stdout",
          "output_type": "stream",
          "text": [
            "mary\n"
          ]
        }
      ],
      "source": [
        "print(list5[1][0])"
      ]
    },
    {
      "cell_type": "code",
      "execution_count": null,
      "metadata": {
        "id": "QzVYmC1yRQ0a"
      },
      "outputs": [],
      "source": [
        "list6=([85,79,93])"
      ]
    },
    {
      "cell_type": "code",
      "execution_count": null,
      "metadata": {
        "colab": {
          "base_uri": "https://localhost:8080/"
        },
        "id": "NQJHMVl2RX0r",
        "outputId": "4038354e-5c3d-42a9-c164-804d3e50bb1a"
      },
      "outputs": [
        {
          "name": "stdout",
          "output_type": "stream",
          "text": [
            "國文成績: 85分\n",
            "數學成績: 79分\n",
            "英文成績: 93分\n"
          ]
        }
      ],
      "source": [
        "print(\"國文成績: %d分\" %list6[0])\n",
        "print(\"數學成績: %d分\" %list6[1])\n",
        "print(\"英文成績: %d分\" %list6[2])"
      ]
    },
    {
      "cell_type": "code",
      "execution_count": null,
      "metadata": {
        "id": "8NTuHR7yTvTg"
      },
      "outputs": [],
      "source": [
        "list7=[1,2,3,4,5]\n"
      ]
    },
    {
      "cell_type": "code",
      "execution_count": null,
      "metadata": {
        "colab": {
          "base_uri": "https://localhost:8080/"
        },
        "id": "anC7a2qvT2eV",
        "outputId": "700445c5-dea0-43c2-ddd3-84c90af376cd"
      },
      "outputs": [
        {
          "name": "stdout",
          "output_type": "stream",
          "text": [
            "1\n"
          ]
        }
      ],
      "source": [
        "print(list7[0])"
      ]
    },
    {
      "cell_type": "code",
      "execution_count": null,
      "metadata": {
        "id": "LBhfyxMZT6BZ"
      },
      "outputs": [],
      "source": [
        "list7[0]=9"
      ]
    },
    {
      "cell_type": "code",
      "execution_count": null,
      "metadata": {
        "colab": {
          "base_uri": "https://localhost:8080/"
        },
        "id": "FCo-bdC1T_Tx",
        "outputId": "4d70d6c1-8f52-4ee8-cf1c-dacde367e141"
      },
      "outputs": [
        {
          "name": "stdout",
          "output_type": "stream",
          "text": [
            "[9, 2, 3, 4, 5]\n"
          ]
        }
      ],
      "source": [
        "print(list7)"
      ]
    },
    {
      "cell_type": "code",
      "execution_count": null,
      "metadata": {
        "id": "3NG7TM2PUh8Q"
      },
      "outputs": [],
      "source": [
        "list8=[\"香蕉\",\"蘋果\",\"橘子\"]"
      ]
    },
    {
      "cell_type": "code",
      "execution_count": null,
      "metadata": {
        "colab": {
          "base_uri": "https://localhost:8080/"
        },
        "id": "HSRIsu03UBy6",
        "outputId": "72a1d9f8-0ab6-46db-aa88-53e9d0af9d47"
      },
      "outputs": [
        {
          "name": "stdout",
          "output_type": "stream",
          "text": [
            "香蕉,蘋果,橘子,"
          ]
        }
      ],
      "source": [
        "for s in list8:\n",
        "    print(s,end=\",\")"
      ]
    },
    {
      "cell_type": "code",
      "execution_count": null,
      "metadata": {
        "colab": {
          "base_uri": "https://localhost:8080/"
        },
        "id": "t4UOO7uMUr3d",
        "outputId": "10ecf8a9-2c69-4c0b-9603-c47d22560e69"
      },
      "outputs": [
        {
          "name": "stdout",
          "output_type": "stream",
          "text": [
            "123\n",
            "apple\n",
            "True\n"
          ]
        }
      ],
      "source": [
        "items = [123,\"apple\",True]\n",
        "for item in items:\n",
        "    print(item)"
      ]
    },
    {
      "cell_type": "code",
      "execution_count": null,
      "metadata": {
        "id": "YEFmEYGWWk2v"
      },
      "outputs": [],
      "source": [
        "scores=[85,79,93]"
      ]
    },
    {
      "cell_type": "code",
      "execution_count": null,
      "metadata": {
        "colab": {
          "base_uri": "https://localhost:8080/"
        },
        "id": "FGVF8FaDV5Bv",
        "outputId": "ab08e884-6fa7-4137-ffdb-088c51c2875e"
      },
      "outputs": [
        {
          "name": "stdout",
          "output_type": "stream",
          "text": [
            "3\n"
          ]
        }
      ],
      "source": [
        "print(len(scores))"
      ]
    },
    {
      "cell_type": "code",
      "execution_count": null,
      "metadata": {
        "colab": {
          "base_uri": "https://localhost:8080/"
        },
        "id": "IHr8RwUqWysk",
        "outputId": "8dd11e60-7156-41b9-d622-e8cd6e94b1b2"
      },
      "outputs": [
        {
          "name": "stdout",
          "output_type": "stream",
          "text": [
            "85\n",
            "79\n",
            "93\n"
          ]
        }
      ],
      "source": [
        "scores =[85,79,93]\n",
        "for i in range(len(scores)):\n",
        "    print(scores[i])"
      ]
    },
    {
      "cell_type": "code",
      "execution_count": 40,
      "metadata": {
        "colab": {
          "base_uri": "https://localhost:8080/"
        },
        "id": "stvDs4a2XQ7F",
        "outputId": "d91c12e2-335e-4d96-909f-e77d3fc05903"
      },
      "outputs": [
        {
          "output_type": "stream",
          "name": "stdout",
          "text": [
            "國文成績:85分\n",
            "數學成績:79分\n",
            "英文成績:93分\n"
          ]
        }
      ],
      "source": [
        "subjects=[\"國文\",\"數學\",\"英文\"]\n",
        "scores=[85,79,93]\n",
        "for s in range(len(scores)):\n",
        "    scores += [s]\n",
        "    print(\"%s成績:%d分\"%(subjects[s],scores[s]))"
      ]
    },
    {
      "cell_type": "code",
      "source": [
        "number = [1,2,3]\n",
        "name =[\"Tom\",\"Mary\",\"Tony\"]\n",
        "for i in range(len(name)):\n",
        "    print(\"編號:%d 姓名:%s\"%(number[i],name[i]))"
      ],
      "metadata": {
        "id": "CWanzDKScU1j",
        "colab": {
          "base_uri": "https://localhost:8080/"
        },
        "outputId": "ee87093b-74ae-417b-a6d7-5194c11562c8"
      },
      "execution_count": 43,
      "outputs": [
        {
          "output_type": "stream",
          "name": "stdout",
          "text": [
            "編號:1 姓名:Tom\n",
            "編號:2 姓名:Mary\n",
            "編號:3 姓名:Tony\n"
          ]
        }
      ]
    }
  ],
  "metadata": {
    "colab": {
      "name": "0606.ipynb",
      "provenance": [],
      "authorship_tag": "ABX9TyMZD+ndsHjbQDD2pp30yyxE",
      "include_colab_link": true
    },
    "kernelspec": {
      "display_name": "Python 3",
      "name": "python3"
    },
    "language_info": {
      "name": "python"
    }
  },
  "nbformat": 4,
  "nbformat_minor": 0
}