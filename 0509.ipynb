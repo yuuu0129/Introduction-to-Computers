{
  "nbformat": 4,
  "nbformat_minor": 0,
  "metadata": {
    "colab": {
      "name": "0509.ipynb",
      "provenance": [],
      "authorship_tag": "ABX9TyNdlrNJTQYm3Ko158LlMs9T",
      "include_colab_link": true
    },
    "kernelspec": {
      "name": "python3",
      "display_name": "Python 3"
    },
    "language_info": {
      "name": "python"
    }
  },
  "cells": [
    {
      "cell_type": "markdown",
      "metadata": {
        "id": "view-in-github",
        "colab_type": "text"
      },
      "source": [
        "<a href=\"https://colab.research.google.com/github/yuuu0129/Introduction-to-Computers/blob/main/0509.ipynb\" target=\"_parent\"><img src=\"https://colab.research.google.com/assets/colab-badge.svg\" alt=\"Open In Colab\"/></a>"
      ]
    },
    {
      "cell_type": "code",
      "execution_count": 1,
      "metadata": {
        "colab": {
          "base_uri": "https://localhost:8080/"
        },
        "id": "hYE82TfD7uBR",
        "outputId": "1993c3ee-4f9f-44f1-ca87-312ef9fe0125"
      },
      "outputs": [
        {
          "output_type": "stream",
          "name": "stdout",
          "text": [
            "123\n"
          ]
        }
      ],
      "source": [
        "print(\"123\")"
      ]
    },
    {
      "cell_type": "code",
      "source": [
        "temp = float(input(\"請輸入你的體溫\"))\n",
        "if temp >= 37.5:\n",
        "    print(\"體溫過高\")\n",
        "elif temp >= 37 and temp <37.4:\n",
        "    print(\"體溫略高\") \n",
        "elif temp >= 34 and temp <= 36.9:\n",
        "    print(\"體溫正常\")     \n",
        "else:\n",
        "    print(\"體溫異常請重新測量\")    "
      ],
      "metadata": {
        "colab": {
          "base_uri": "https://localhost:8080/"
        },
        "id": "QLdoOGaV7_IC",
        "outputId": "734978c8-1097-4d9e-c1a9-2777076d59c9"
      },
      "execution_count": 10,
      "outputs": [
        {
          "output_type": "stream",
          "name": "stdout",
          "text": [
            "請輸入你的體溫37.3\n",
            "體溫略高\n"
          ]
        }
      ]
    },
    {
      "cell_type": "code",
      "source": [
        "score = input(\"請輸入成積\")\n",
        "if (int(score) >= 90):\n",
        "    print(\"A\")\n",
        "elif(int(score)>=80):\n",
        "    print(\"B\") \n",
        "elif(int(score)>=70):\n",
        "    print(\"C\")     \n",
        "elif(int(score)>=60):\n",
        "    print(\"D\")\n",
        "else:\n",
        "     print(\"E\")"
      ],
      "metadata": {
        "colab": {
          "base_uri": "https://localhost:8080/"
        },
        "id": "9TrQuwwO_ugr",
        "outputId": "12c33faa-8ee2-42da-fcb5-548579044f2d"
      },
      "execution_count": 12,
      "outputs": [
        {
          "output_type": "stream",
          "name": "stdout",
          "text": [
            "請輸入成積50\n",
            "E\n"
          ]
        }
      ]
    },
    {
      "cell_type": "code",
      "source": [
        "money = int(input(\"請輸入購物金\"))\n",
        "if (money>=10000):\n",
        "    if(money>=100000):\n",
        "        print(\"八折\",money*0.8,end = \"元\\n\")\n",
        "    elif(money>=50000):\n",
        "        print(\"八五折\",money*0.85,end=\"元\\n\")\n",
        "    elif(money>=30000):\n",
        "        print(\"九折\",money*0.9,end=\"元\\n\")\n",
        "    elif(money>=10000):\n",
        "        print(\"九五折\",money*0.95,end=\"元\\n\")\n",
        "else:\n",
        "    print(\"沒打折\",money,end=\"元\\n\")         "
      ],
      "metadata": {
        "colab": {
          "base_uri": "https://localhost:8080/"
        },
        "id": "4G71FMSABRR9",
        "outputId": "ce09f956-1706-4447-ade5-c3313b69b66c"
      },
      "execution_count": 13,
      "outputs": [
        {
          "output_type": "stream",
          "name": "stdout",
          "text": [
            "請輸入購物金100000\n",
            "八折 80000.0元\n"
          ]
        }
      ]
    },
    {
      "cell_type": "code",
      "source": [
        "month=int(input(\"請輸入月份\"))\n",
        "if (month>=3 and month<=5):\n",
        "    print(month,\"月是春天\")\n",
        "elif (month>=6 and month <=8):\n",
        "    print(month,\"月是夏天\") \n",
        "elif (month>= 9 and month <=11):\n",
        "    print(month,\"月是秋天\")\n",
        "elif(month ==12 or month==1 or month==2):\n",
        "    print(month,\"月是冬天\") \n",
        "else:\n",
        "    print(\"月份不在範圍內\")  \n",
        "           "
      ],
      "metadata": {
        "colab": {
          "base_uri": "https://localhost:8080/"
        },
        "id": "AMArhNsoJ9Rb",
        "outputId": "c2789768-3c79-4331-dfd8-dc86e261c374"
      },
      "execution_count": 15,
      "outputs": [
        {
          "output_type": "stream",
          "name": "stdout",
          "text": [
            "請輸入月份13\n",
            "月份不在範圍內\n"
          ]
        }
      ]
    },
    {
      "cell_type": "code",
      "source": [
        "tax = int(input(\"請輸入今年收入淨額\"))\n",
        "if (tax>=2000000):\n",
        "    print(\"付稅金額:\",tax*0.3,end=\"元\\n\")\n",
        "elif(tax>=1000000):\n",
        "    print(\"付稅金額:\",tax=0.21,end=\"元\\n\")   \n",
        "elif(tax>=600000):\n",
        "    print(\"付稅金額:\",tax*0.13,end=\"元\\n\")   \n",
        "elif(tax >=300000):\n",
        "    print(\"付稅金額:\",tax*0.06,end=\"元\\n\")\n",
        "\n",
        "else:\n",
        "    print(\"沒打折:\",tax,end=\"元/n\")"
      ],
      "metadata": {
        "colab": {
          "base_uri": "https://localhost:8080/"
        },
        "id": "AW9_zZUiJ9nN",
        "outputId": "86626012-4c27-4509-e373-9eb7192a0779"
      },
      "execution_count": 18,
      "outputs": [
        {
          "output_type": "stream",
          "name": "stdout",
          "text": [
            "請輸入今年收入淨額2000000\n",
            "付稅金額: 600000.0元\n"
          ]
        }
      ]
    },
    {
      "cell_type": "code",
      "source": [
        ""
      ],
      "metadata": {
        "id": "7OMmnn9kMZLV"
      },
      "execution_count": null,
      "outputs": []
    }
  ]
}