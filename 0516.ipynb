{
  "nbformat": 4,
  "nbformat_minor": 0,
  "metadata": {
    "colab": {
      "name": "0516.ipynb",
      "provenance": [],
      "authorship_tag": "ABX9TyPsMDsjJXMNxNj7GA4Px6rH",
      "include_colab_link": true
    },
    "kernelspec": {
      "name": "python3",
      "display_name": "Python 3"
    },
    "language_info": {
      "name": "python"
    }
  },
  "cells": [
    {
      "cell_type": "markdown",
      "metadata": {
        "id": "view-in-github",
        "colab_type": "text"
      },
      "source": [
        "<a href=\"https://colab.research.google.com/github/yuuu0129/Introduction-to-Computers/blob/main/0516.ipynb\" target=\"_parent\"><img src=\"https://colab.research.google.com/assets/colab-badge.svg\" alt=\"Open In Colab\"/></a>"
      ]
    },
    {
      "cell_type": "code",
      "execution_count": null,
      "metadata": {
        "id": "_EJc9q8n8rUZ"
      },
      "outputs": [],
      "source": [
        "i= range(5)"
      ]
    },
    {
      "cell_type": "code",
      "source": [
        "print(type(i))"
      ],
      "metadata": {
        "colab": {
          "base_uri": "https://localhost:8080/"
        },
        "id": "aW_wz8QG8yhp",
        "outputId": "e9f8298a-7dd5-4286-fada-7193b87b2bbc"
      },
      "execution_count": null,
      "outputs": [
        {
          "output_type": "stream",
          "name": "stdout",
          "text": [
            "<class 'range'>\n"
          ]
        }
      ]
    },
    {
      "cell_type": "code",
      "source": [
        "print(i)"
      ],
      "metadata": {
        "colab": {
          "base_uri": "https://localhost:8080/"
        },
        "id": "HvwZVL3683ue",
        "outputId": "be82e2ea-3e49-48c6-873c-f57582d210a9"
      },
      "execution_count": null,
      "outputs": [
        {
          "output_type": "stream",
          "name": "stdout",
          "text": [
            "range(0, 5)\n"
          ]
        }
      ]
    },
    {
      "cell_type": "code",
      "source": [
        "print(list(i))"
      ],
      "metadata": {
        "colab": {
          "base_uri": "https://localhost:8080/"
        },
        "id": "zivGIvY285vc",
        "outputId": "511858b4-55c2-433c-cfb1-993c5791d621"
      },
      "execution_count": null,
      "outputs": [
        {
          "output_type": "stream",
          "name": "stdout",
          "text": [
            "[0, 1, 2, 3, 4]\n"
          ]
        }
      ]
    },
    {
      "cell_type": "code",
      "source": [
        "a = range(3,8)\n",
        "print(list(a))"
      ],
      "metadata": {
        "colab": {
          "base_uri": "https://localhost:8080/"
        },
        "id": "HcBlSgAo9X61",
        "outputId": "70076047-fabe-4594-e6c6-077b6d126ed5"
      },
      "execution_count": null,
      "outputs": [
        {
          "output_type": "stream",
          "name": "stdout",
          "text": [
            "[3, 4, 5, 6, 7]\n"
          ]
        }
      ]
    },
    {
      "cell_type": "code",
      "source": [
        "b = range(-2,4)\n",
        "print(list(b))"
      ],
      "metadata": {
        "colab": {
          "base_uri": "https://localhost:8080/"
        },
        "id": "NsdnqZ8P9hOJ",
        "outputId": "b07f1cea-5b52-4da8-d8d8-fed75d13dfee"
      },
      "execution_count": null,
      "outputs": [
        {
          "output_type": "stream",
          "name": "stdout",
          "text": [
            "[-2, -1, 0, 1, 2, 3]\n"
          ]
        }
      ]
    },
    {
      "cell_type": "code",
      "source": [
        "c = range(3,8,1)\n",
        "d = range(3,8,2)\n",
        "e = range(8,3,-1)\n",
        "print(list(c))\n",
        "print(list(d))\n",
        "print(list(e))"
      ],
      "metadata": {
        "colab": {
          "base_uri": "https://localhost:8080/"
        },
        "id": "z5Lr_Jka-Zl-",
        "outputId": "b1aa538b-fbc7-45e9-e4e2-5da294c00f1a"
      },
      "execution_count": null,
      "outputs": [
        {
          "output_type": "stream",
          "name": "stdout",
          "text": [
            "[3, 4, 5, 6, 7]\n",
            "[3, 5, 7]\n",
            "[8, 7, 6, 5, 4]\n"
          ]
        }
      ]
    },
    {
      "cell_type": "code",
      "source": [
        "f = range(9)\n",
        "g = range(1,10)\n",
        "h = range(1,10,2)\n",
        "i = range(10,1,-2)\n",
        "print(list(f))\n",
        "print(list(g))\n",
        "print(list(h))\n",
        "print(list(i))\n"
      ],
      "metadata": {
        "colab": {
          "base_uri": "https://localhost:8080/"
        },
        "id": "l7eIypWrALWs",
        "outputId": "9e5f1792-aea1-4557-e266-00345cd0e3b5"
      },
      "execution_count": null,
      "outputs": [
        {
          "output_type": "stream",
          "name": "stdout",
          "text": [
            "[0, 1, 2, 3, 4, 5, 6, 7, 8]\n",
            "[1, 2, 3, 4, 5, 6, 7, 8, 9]\n",
            "[1, 3, 5, 7, 9]\n",
            "[10, 8, 6, 4, 2]\n"
          ]
        }
      ]
    },
    {
      "cell_type": "code",
      "source": [
        "for n in range(10):\n",
        "    print(n, end=\",\")"
      ],
      "metadata": {
        "id": "r6UrHlS4BrKr",
        "colab": {
          "base_uri": "https://localhost:8080/"
        },
        "outputId": "e85019e9-9b00-4c4e-955e-73ab74ebf7cf"
      },
      "execution_count": null,
      "outputs": [
        {
          "output_type": "stream",
          "name": "stdout",
          "text": [
            "0,1,2,3,4,5,6,7,8,9,"
          ]
        }
      ]
    },
    {
      "cell_type": "code",
      "source": [
        "for n in range(0,10,2):\n",
        "    print(n, end=\",\")"
      ],
      "metadata": {
        "colab": {
          "base_uri": "https://localhost:8080/"
        },
        "id": "8iC7yqMYDx_a",
        "outputId": "0190f875-29e9-491a-ae44-20c2d7b1b8d3"
      },
      "execution_count": null,
      "outputs": [
        {
          "output_type": "stream",
          "name": "stdout",
          "text": [
            "0,2,4,6,8,"
          ]
        }
      ]
    },
    {
      "cell_type": "code",
      "source": [
        "j =int(input(\"請輸入一個正整數\"))\n",
        "for n in range(1,j+1):\n",
        "    print(n, end=\" \")"
      ],
      "metadata": {
        "id": "DbgHx_zqHwFC",
        "colab": {
          "base_uri": "https://localhost:8080/"
        },
        "outputId": "0112f957-67d0-436c-f299-4f1a03c5d670"
      },
      "execution_count": null,
      "outputs": [
        {
          "output_type": "stream",
          "name": "stdout",
          "text": [
            "請輸入一個正整數5\n",
            "1 2 3 4 5 "
          ]
        }
      ]
    },
    {
      "cell_type": "code",
      "source": [
        "sum = 0\n",
        "for n in range(3):\n",
        "    sum =sum+n\n",
        "print(sum)"
      ],
      "metadata": {
        "colab": {
          "base_uri": "https://localhost:8080/"
        },
        "id": "tDtl-rbhJLrl",
        "outputId": "8638fd9b-f260-4313-99c4-de1e80be14a0"
      },
      "execution_count": null,
      "outputs": [
        {
          "output_type": "stream",
          "name": "stdout",
          "text": [
            "3\n"
          ]
        }
      ]
    },
    {
      "cell_type": "code",
      "source": [
        "sum = 0\n",
        "for n in range(10,1,-2):\n",
        "    sum = sum+n\n",
        "print(sum)"
      ],
      "metadata": {
        "colab": {
          "base_uri": "https://localhost:8080/"
        },
        "id": "8K1Iu89XK64G",
        "outputId": "b2a9460c-8bf2-442c-ff39-e251e0c237b1"
      },
      "execution_count": null,
      "outputs": [
        {
          "output_type": "stream",
          "name": "stdout",
          "text": [
            "30\n"
          ]
        }
      ]
    },
    {
      "cell_type": "code",
      "source": [
        "sum = 0\n",
        "l = int(input(\"請輸入一個正整數：\"))\n",
        "for n in range(1,l+1):\n",
        "    sum = sum+n\n",
        "print(\"1到\",l,\"的整數和為\",sum)\n",
        "  \n"
      ],
      "metadata": {
        "colab": {
          "base_uri": "https://localhost:8080/"
        },
        "id": "pcQUBm_lMAtd",
        "outputId": "ecec8f35-5fca-41eb-d375-a68313295c2b"
      },
      "execution_count": null,
      "outputs": [
        {
          "output_type": "stream",
          "name": "stdout",
          "text": [
            "請輸入一個正整數：10\n",
            "1到 10 的整數和為 55\n"
          ]
        }
      ]
    },
    {
      "cell_type": "code",
      "source": [
        "sum = 0\n",
        "m = int(input(\"請輸入一個正整數：\"))\n",
        "for n in range(1,o+1):\n",
        "    sum = sum+n\n",
        "    print(\"1到\",sum,\"的整數和為:\",sum)"
      ],
      "metadata": {
        "colab": {
          "base_uri": "https://localhost:8080/"
        },
        "id": "BGWdE0EgZOwz",
        "outputId": "7474bcb1-a236-4358-b6fc-87d389c10315"
      },
      "execution_count": 60,
      "outputs": [
        {
          "output_type": "stream",
          "name": "stdout",
          "text": [
            "請輸入一個正整數：10\n",
            "1到 1 的整數和為 1\n",
            "1到 3 的整數和為 3\n",
            "1到 6 的整數和為 6\n",
            "1到 10 的整數和為 10\n",
            "1到 15 的整數和為 15\n",
            "1到 21 的整數和為 21\n",
            "1到 28 的整數和為 28\n",
            "1到 36 的整數和為 36\n",
            "1到 45 的整數和為 45\n",
            "1到 55 的整數和為 55\n"
          ]
        }
      ]
    },
    {
      "cell_type": "code",
      "source": [
        ""
      ],
      "metadata": {
        "id": "ifQ9wGHKa2N5"
      },
      "execution_count": null,
      "outputs": []
    }
  ]
}